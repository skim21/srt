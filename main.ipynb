{
 "cells": [
  {
   "cell_type": "code",
   "execution_count": null,
   "metadata": {},
   "outputs": [],
   "source": [
    "from SRT import SRT\n",
    "from korail_message import *\n",
    "import time as ti\n",
    "\n",
    "PASSWORD = \"happy4u#5\"\n",
    "srt = SRT(\"1692325169\", PASSWORD)\n",
    "\n",
    "dep = '동탄' \n",
    "arr = '오송'\n",
    "date = '20220930'\n",
    "time = '175800'\n",
    "\n",
    "flag = True\n",
    "while flag:\n",
    "    ti.sleep(0.3)\n",
    "    try:\n",
    "        trains = srt.search_train(dep, arr, date, time)\n",
    "        if trains:\n",
    "            print(trains)\n",
    "            for train in trains:\n",
    "                if train.dep_time == time:\n",
    "                    print(train)\n",
    "                    if (train.special_seat_available()) & (~train.general_seat_available()):\n",
    "                        seat = srt.reserve(train, special_seat=True)\n",
    "                    else:\n",
    "                        seat = srt.reserve(train)\n",
    "                    flag = False\n",
    "                    print(seat)\n",
    "                    send_message(seat)\n",
    "                else:\n",
    "                    continue\n",
    "        \n",
    "    except:\n",
    "        pass "
   ]
  }
 ],
 "metadata": {
  "language_info": {
   "name": "python"
  },
  "orig_nbformat": 4
 },
 "nbformat": 4,
 "nbformat_minor": 2
}
