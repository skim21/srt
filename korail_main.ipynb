{
 "cells": [
  {
   "cell_type": "code",
   "execution_count": null,
   "metadata": {},
   "outputs": [
    {
     "ename": "",
     "evalue": "",
     "output_type": "error",
     "traceback": [
      "\u001b[1;31mThe kernel failed to start due to the missing module 'prompt_toolkit.formatted_text'. Consider installing this module.\n",
      "\u001b[1;31m자세한 내용을 보려면 <a href='https://aka.ms/kernelFailuresMissingModule'>여기</a>를 클릭합니다."
     ]
    }
   ],
   "source": [
    "!pip install SRTrain"
   ]
  },
  {
   "cell_type": "code",
   "execution_count": null,
   "metadata": {},
   "outputs": [],
   "source": [
    "from SRT import SRT\n",
    "#from korail_message import *\n",
    "import time as ti\n",
    "\n",
    "PASSWORD = \"happy4u#5\"\n",
    "srt = SRT(\"1692325169\", PASSWORD)\n",
    "\n",
    "dep = '동탄' \n",
    "arr = '오송'\n",
    "date = '20220930'\n",
    "time = '175800'\n",
    "\n",
    "flag = True\n",
    "while flag:\n",
    "    ti.sleep(0.3)\n",
    "    try:\n",
    "        trains = srt.search_train(dep, arr, date, time)\n",
    "        if trains:\n",
    "            print(trains)\n",
    "            for train in trains:\n",
    "                if train.dep_time == time:\n",
    "                    print(train)\n",
    "                    if (train.special_seat_available()) & (~train.general_seat_available()):\n",
    "                        seat = srt.reserve(train, special_seat=True)\n",
    "                    else:\n",
    "                        seat = srt.reserve(train)\n",
    "                    flag = False\n",
    "                    print(seat)\n",
    "                    #send_message(seat)\n",
    "                else:\n",
    "                    continue\n",
    "        \n",
    "    except:\n",
    "        pass "
   ]
  }
 ],
 "metadata": {
  "kernelspec": {
   "display_name": "Python 3.9.10 64-bit",
   "language": "python",
   "name": "python3"
  },
  "language_info": {
   "name": "python",
   "version": "3.9.10"
  },
  "orig_nbformat": 4,
  "vscode": {
   "interpreter": {
    "hash": "11938c6bc6919ae2720b4d5011047913343b08a43b18698fd82dedb0d4417594"
   }
  }
 },
 "nbformat": 4,
 "nbformat_minor": 2
}
