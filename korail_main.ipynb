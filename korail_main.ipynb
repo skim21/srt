{
 "cells": [
  {
   "cell_type": "code",
   "execution_count": null,
   "metadata": {},
   "outputs": [
    {
     "ename": "",
     "evalue": "",
     "output_type": "error",
     "traceback": [
      "\u001b[1;31mThe kernel failed to start due to the missing module 'prompt_toolkit.formatted_text'. Consider installing this module.\n",
      "\u001b[1;31m자세한 내용을 보려면 <a href='https://aka.ms/kernelFailuresMissingModule'>여기</a>를 클릭합니다."
     ]
    }
   ],
   "source": [
    "!pip install korail2"
   ]
  },
  {
   "cell_type": "code",
   "execution_count": null,
   "metadata": {},
   "outputs": [],
   "source": [
    "from korail2 import *\n",
    "from korail_message import *\n",
    "import time as ti\n",
    "korail = Korail(\"1571795012\", \"happy4u#5\") # with membership number\n",
    "\n",
    "dep = '서울'\n",
    "arr = '오송'\n",
    "date = '20220708'\n",
    "time = '173800'\n",
    "psgrs = [AdultPassenger()]\n",
    "\n",
    "flag = True\n",
    "while flag:\n",
    "    ti.sleep(0.3)\n",
    "    try:\n",
    "        trains = korail.search_train(dep, arr, date, time)\n",
    "        print(trains)\n",
    "        for train in trains:\n",
    "            if train.dep_time == time:\n",
    "                seat = korail.reserve(train, passengers=psgrs)\n",
    "                flag = False\n",
    "                send_message(seat)\n",
    "            else:\n",
    "                continue\n",
    "        \n",
    "    except:\n",
    "        pass "
   ]
  }
 ],
 "metadata": {
  "kernelspec": {
   "display_name": "Python 3.9.10 64-bit",
   "language": "python",
   "name": "python3"
  },
  "language_info": {
   "name": "python",
   "version": "3.9.10"
  },
  "orig_nbformat": 4,
  "vscode": {
   "interpreter": {
    "hash": "11938c6bc6919ae2720b4d5011047913343b08a43b18698fd82dedb0d4417594"
   }
  }
 },
 "nbformat": 4,
 "nbformat_minor": 2
}
