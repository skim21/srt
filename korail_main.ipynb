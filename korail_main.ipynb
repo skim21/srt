{
 "cells": [
  {
   "cell_type": "code",
   "execution_count": null,
   "metadata": {},
   "outputs": [
    {
     "ename": "",
     "evalue": "",
     "output_type": "error",
     "traceback": [
      "\u001b[1;31mThe kernel failed to start due to the missing module 'prompt_toolkit.formatted_text'. Consider installing this module.\n",
      "\u001b[1;31m자세한 내용을 보려면 <a href='https://aka.ms/kernelFailuresMissingModule'>여기</a>를 클릭합니다."
     ]
    }
   ],
   "source": [
    "!pip install korail2"
   ]
  },
  {
   "cell_type": "code",
   "execution_count": 4,
   "metadata": {},
   "outputs": [
    {
     "name": "stdout",
     "output_type": "stream",
     "text": [
      "[[KTX] 11월 6일, 서울~오송(21:30~22:14) 일반실 18,500원 5%적립, [KTX] 11월 6일, 서울~오송(21:35~22:25) 특실,일반실 18,500원 5%적립, [KTX-산천] 11월 6일, 서울~오송(22:20~23:04) 특실,일반실 18,500원 5%적립, [KTX] 11월 6일, 용산~오송(22:25~23:14) 특실,일반실 18,200원 5%적립, [KTX] 11월 6일, 서울~오송(23:00~23:50) 특실,일반실 18,500원 5%적립, [KTX] 11월 6일, 서울~오송(23:30~00:20) 특실,일반실 18,500원 5%적립]\n",
      "[KTX] 11월 6일, 서울~오송(21:30~22:14) 일반실 18,500원 5%적립\n"
     ]
    }
   ],
   "source": [
    "from korail2 import *\n",
    "#from korail_message import *\n",
    "import time as ti\n",
    "korail = Korail(\"010-5011-9566\", \"happy4u#5\") # with membership number\n",
    "\n",
    "dep = '서울'\n",
    "arr = '오송'\n",
    "date = '20221106'\n",
    "time = '213000'\n",
    "psgrs = [AdultPassenger()]\n",
    "\n",
    "flag = True\n",
    "while flag:\n",
    "    ti.sleep(0.3)\n",
    "    try:\n",
    "        trains = korail.search_train(dep, arr, date, time)\n",
    "        print(trains)\n",
    "        for train in trains:\n",
    "            if train.dep_time == time:\n",
    "                seat = korail.reserve(train, passengers=psgrs)\n",
    "                flag = False\n",
    "                #send_message(seat)\n",
    "            else:\n",
    "                continue\n",
    "        \n",
    "    except Exception as e:\n",
    "        print(e)"
   ]
  }
 ],
 "metadata": {
  "kernelspec": {
   "display_name": "Python 3.9.10 64-bit",
   "language": "python",
   "name": "python3"
  },
  "language_info": {
   "codemirror_mode": {
    "name": "ipython",
    "version": 3
   },
   "file_extension": ".py",
   "mimetype": "text/x-python",
   "name": "python",
   "nbconvert_exporter": "python",
   "pygments_lexer": "ipython3",
   "version": "3.9.10"
  },
  "orig_nbformat": 4,
  "vscode": {
   "interpreter": {
    "hash": "11938c6bc6919ae2720b4d5011047913343b08a43b18698fd82dedb0d4417594"
   }
  }
 },
 "nbformat": 4,
 "nbformat_minor": 2
}
